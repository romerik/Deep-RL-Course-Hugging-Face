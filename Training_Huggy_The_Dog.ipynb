{
  "cells": [
    {
      "cell_type": "markdown",
      "metadata": {
        "id": "view-in-github",
        "colab_type": "text"
      },
      "source": [
        "<a href=\"https://colab.research.google.com/github/romerik/Deep-RL-Course-Hugging-Face/blob/main/Training_Huggy_The_Dog.ipynb\" target=\"_parent\"><img src=\"https://colab.research.google.com/assets/colab-badge.svg\" alt=\"Open In Colab\"/></a>"
      ]
    },
    {
      "cell_type": "markdown",
      "metadata": {
        "id": "2D3NL_e4crQv"
      },
      "source": [
        "# Bonus Unit 1: Let's train Huggy the Dog 🐶 to fetch a stick"
      ]
    },
    {
      "cell_type": "markdown",
      "source": [
        "<img src=\"https://huggingface.co/datasets/huggingface-deep-rl-course/course-images/resolve/main/en/unit2/thumbnail.png\" alt=\"Bonus Unit 1Thumbnail\">\n",
        "\n",
        "In this notebook, we'll reinforce what we learned in the first Unit by **teaching Huggy the Dog to fetch the stick and then play with it directly in your browser**\n",
        "\n",
        "⬇️ Here is an example of what **you will achieve at the end of the unit.** ⬇️ (launch ▶ to see)"
      ],
      "metadata": {
        "id": "FMYrDriDujzX"
      }
    },
    {
      "cell_type": "code",
      "source": [
        "%%html\n",
        "<video controls autoplay><source src=\"https://huggingface.co/datasets/huggingface-deep-rl-course/course-images/resolve/main/en/notebooks/unit-bonus1/huggy.mp4\" type=\"video/mp4\"></video>"
      ],
      "metadata": {
        "id": "PnVhs1yYNyUF",
        "colab": {
          "base_uri": "https://localhost:8080/",
          "height": 741
        },
        "outputId": "b1ad6737-c66f-4d77-9e41-4fe031cd47cf"
      },
      "execution_count": 1,
      "outputs": [
        {
          "output_type": "display_data",
          "data": {
            "text/plain": [
              "<IPython.core.display.HTML object>"
            ],
            "text/html": [
              "<video controls autoplay><source src=\"https://huggingface.co/datasets/huggingface-deep-rl-course/course-images/resolve/main/en/notebooks/unit-bonus1/huggy.mp4\" type=\"video/mp4\"></video>\n"
            ]
          },
          "metadata": {}
        }
      ]
    },
    {
      "cell_type": "markdown",
      "source": [
        "### The environment 🎮\n",
        "\n",
        "- Huggy the Dog, an environment created by [Thomas Simonini](https://twitter.com/ThomasSimonini) based on [Puppo The Corgi](https://blog.unity.com/technology/puppo-the-corgi-cuteness-overload-with-the-unity-ml-agents-toolkit)\n",
        "\n",
        "### The library used 📚\n",
        "\n",
        "- [MLAgents (Hugging Face version)](https://github.com/huggingface/ml-agents)"
      ],
      "metadata": {
        "id": "x7oR6R-ZIbeS"
      }
    },
    {
      "cell_type": "markdown",
      "source": [
        "We're constantly trying to improve our tutorials, so **if you find some issues in this notebook**, please [open an issue on the Github Repo](https://github.com/huggingface/deep-rl-class/issues)."
      ],
      "metadata": {
        "id": "60yACvZwO0Cy"
      }
    },
    {
      "cell_type": "markdown",
      "source": [
        "## Objectives of this notebook 🏆\n",
        "\n",
        "At the end of the notebook, you will:\n",
        "\n",
        "- Understand **the state space, action space and reward function used to train Huggy**.\n",
        "- **Train your own Huggy** to fetch the stick.\n",
        "- Be able to play **with your trained Huggy directly in your browser**.\n",
        "\n",
        "\n"
      ],
      "metadata": {
        "id": "Oks-ETYdO2Dc"
      }
    },
    {
      "cell_type": "markdown",
      "source": [
        "## This notebook is from Deep Reinforcement Learning Course\n",
        "<img src=\"https://huggingface.co/datasets/huggingface-deep-rl-course/course-images/resolve/main/en/notebooks/deep-rl-course-illustration.jpg\" alt=\"Deep RL Course illustration\"/>"
      ],
      "metadata": {
        "id": "mUlVrqnBv2o1"
      }
    },
    {
      "cell_type": "markdown",
      "source": [
        "In this free course, you will:\n",
        "\n",
        "- 📖 Study Deep Reinforcement Learning in **theory and practice**.\n",
        "- 🧑‍💻 Learn to **use famous Deep RL libraries** such as Stable Baselines3, RL Baselines3 Zoo, CleanRL and Sample Factory 2.0.\n",
        "- 🤖 Train **agents in unique environments** \n",
        "\n",
        "And more check 📚 the syllabus 👉 https://simoninithomas.github.io/deep-rl-course\n",
        "\n",
        "Don’t forget to **<a href=\"http://eepurl.com/ic5ZUD\">sign up to the course</a>** (we are collecting your email to be able to **send you the links when each Unit is published and give you information about the challenges and updates).**\n",
        "\n",
        "\n",
        "The best way to keep in touch is to join our discord server to exchange with the community and with us 👉🏻 https://discord.gg/ydHrjt3WP5"
      ],
      "metadata": {
        "id": "pAMjaQpHwB_s"
      }
    },
    {
      "cell_type": "markdown",
      "source": [
        "## Prerequisites 🏗️\n",
        "\n",
        "Before diving into the notebook, you need to:\n",
        "\n",
        "🔲 📚 **Develop an understanding of the foundations of Reinforcement learning** (MC, TD, Rewards hypothesis...) by doing Unit 1\n",
        "\n",
        "🔲 📚 **Read the introduction to Huggy** by doing Bonus Unit 1"
      ],
      "metadata": {
        "id": "6r7Hl0uywFSO"
      }
    },
    {
      "cell_type": "markdown",
      "source": [
        "## Set the GPU 💪\n",
        "- To **accelerate the agent's training, we'll use a GPU**. To do that, go to `Runtime > Change Runtime type`\n",
        "\n",
        "<img src=\"https://huggingface.co/datasets/huggingface-deep-rl-course/course-images/resolve/main/en/notebooks/gpu-step1.jpg\" alt=\"GPU Step 1\">"
      ],
      "metadata": {
        "id": "DssdIjk_8vZE"
      }
    },
    {
      "cell_type": "markdown",
      "source": [
        "- `Hardware Accelerator > GPU`\n",
        "\n",
        "<img src=\"https://huggingface.co/datasets/huggingface-deep-rl-course/course-images/resolve/main/en/notebooks/gpu-step2.jpg\" alt=\"GPU Step 2\">"
      ],
      "metadata": {
        "id": "sTfCXHy68xBv"
      }
    },
    {
      "cell_type": "markdown",
      "metadata": {
        "id": "an3ByrXYQ4iK"
      },
      "source": [
        "## Clone the repository and install the dependencies 🔽\n",
        "\n",
        "- We need to clone the repository, that **contains the experimental version of the library that allows you to push your trained agent to the Hub.**"
      ]
    },
    {
      "cell_type": "code",
      "execution_count": 2,
      "metadata": {
        "id": "6WNoL04M7rTa"
      },
      "outputs": [],
      "source": [
        "%%capture\n",
        "# Clone this specific repository (can take 3min)\n",
        "!git clone --depth 1 --branch hf-integration https://github.com/huggingface/ml-agents"
      ]
    },
    {
      "cell_type": "code",
      "execution_count": 3,
      "metadata": {
        "id": "d8wmVcMk7xKo"
      },
      "outputs": [],
      "source": [
        "%%capture\n",
        "# Go inside the repository and install the package (can take 3min)\n",
        "%cd ml-agents\n",
        "!pip3 install -e ./ml-agents-envs\n",
        "!pip3 install -e ./ml-agents"
      ]
    },
    {
      "cell_type": "code",
      "source": [
        "%%capture\n",
        "# Due to some conflicts between mlagents and tensorflow we need to uninstall it\n",
        "!pip3 uninstall tensorflow -y"
      ],
      "metadata": {
        "id": "yBRsYPvtTjrm"
      },
      "execution_count": 4,
      "outputs": []
    },
    {
      "cell_type": "markdown",
      "metadata": {
        "id": "HRY5ufKUKfhI"
      },
      "source": [
        "## Download and move the environment zip file in `./trained-envs-executables/linux/`\n",
        "\n",
        "- Our environment executable is in a zip file.\n",
        "- We need to download it and place it to `./trained-envs-executables/linux/`"
      ]
    },
    {
      "cell_type": "code",
      "execution_count": 5,
      "metadata": {
        "id": "C9Ls6_6eOKiA"
      },
      "outputs": [],
      "source": [
        "!mkdir ./trained-envs-executables\n",
        "!mkdir ./trained-envs-executables/linux"
      ]
    },
    {
      "cell_type": "code",
      "source": [
        "!wget --load-cookies /tmp/cookies.txt \"https://docs.google.com/uc?export=download&confirm=$(wget --quiet --save-cookies /tmp/cookies.txt --keep-session-cookies --no-check-certificate 'https://docs.google.com/uc?export=download&id=1zv3M95ZJTWHUVOWT6ckq_cm98nft8gdF' -O- | sed -rn 's/.*confirm=([0-9A-Za-z_]+).*/\\1\\n/p')&id=1zv3M95ZJTWHUVOWT6ckq_cm98nft8gdF\" -O ./trained-envs-executables/linux/Huggy.zip && rm -rf /tmp/cookies.txt"
      ],
      "metadata": {
        "id": "EB-G-80GsxYN",
        "colab": {
          "base_uri": "https://localhost:8080/"
        },
        "outputId": "53db07ef-9212-4c95-e9a1-5e5ddfa6cedd"
      },
      "execution_count": 6,
      "outputs": [
        {
          "output_type": "stream",
          "name": "stdout",
          "text": [
            "--2023-04-07 21:52:45--  https://docs.google.com/uc?export=download&confirm=t&id=1zv3M95ZJTWHUVOWT6ckq_cm98nft8gdF\n",
            "Resolving docs.google.com (docs.google.com)... 142.251.18.101, 142.251.18.138, 142.251.18.139, ...\n",
            "Connecting to docs.google.com (docs.google.com)|142.251.18.101|:443... connected.\n",
            "HTTP request sent, awaiting response... 303 See Other\n",
            "Location: https://doc-0k-28-docs.googleusercontent.com/docs/securesc/ha0ro937gcuc7l7deffksulhg5h7mbp1/9jc56hrqblh2ed07pjbjgnud73l8r9gt/1680904350000/15803371278684422230/*/1zv3M95ZJTWHUVOWT6ckq_cm98nft8gdF?e=download&uuid=152e6ee7-ca10-4cb3-8916-359f433698ec [following]\n",
            "Warning: wildcards not supported in HTTP.\n",
            "--2023-04-07 21:52:46--  https://doc-0k-28-docs.googleusercontent.com/docs/securesc/ha0ro937gcuc7l7deffksulhg5h7mbp1/9jc56hrqblh2ed07pjbjgnud73l8r9gt/1680904350000/15803371278684422230/*/1zv3M95ZJTWHUVOWT6ckq_cm98nft8gdF?e=download&uuid=152e6ee7-ca10-4cb3-8916-359f433698ec\n",
            "Resolving doc-0k-28-docs.googleusercontent.com (doc-0k-28-docs.googleusercontent.com)... 108.177.126.132, 2a00:1450:4013:c01::84\n",
            "Connecting to doc-0k-28-docs.googleusercontent.com (doc-0k-28-docs.googleusercontent.com)|108.177.126.132|:443... connected.\n",
            "HTTP request sent, awaiting response... 200 OK\n",
            "Length: 39214997 (37M) [application/x-zip-compressed]\n",
            "Saving to: ‘./trained-envs-executables/linux/Huggy.zip’\n",
            "\n",
            "./trained-envs-exec 100%[===================>]  37.40M   107MB/s    in 0.3s    \n",
            "\n",
            "2023-04-07 21:52:46 (107 MB/s) - ‘./trained-envs-executables/linux/Huggy.zip’ saved [39214997/39214997]\n",
            "\n"
          ]
        }
      ]
    },
    {
      "cell_type": "markdown",
      "metadata": {
        "id": "jsoZGxr1MIXY"
      },
      "source": [
        "Download the file Huggy.zip from https://drive.google.com/uc?export=download&id=1zv3M95ZJTWHUVOWT6ckq_cm98nft8gdF using `wget`. Check out the full solution to download large files from GDrive [here](https://bcrf.biochem.wisc.edu/2021/02/05/download-google-drive-files-using-wget/)"
      ]
    },
    {
      "cell_type": "code",
      "execution_count": 7,
      "metadata": {
        "id": "8FPx0an9IAwO"
      },
      "outputs": [],
      "source": [
        "%%capture\n",
        "!unzip -d ./trained-envs-executables/linux/ ./trained-envs-executables/linux/Huggy.zip"
      ]
    },
    {
      "cell_type": "markdown",
      "metadata": {
        "id": "nyumV5XfPKzu"
      },
      "source": [
        "Make sure your file is accessible "
      ]
    },
    {
      "cell_type": "code",
      "execution_count": 8,
      "metadata": {
        "id": "EdFsLJ11JvQf"
      },
      "outputs": [],
      "source": [
        "!chmod -R 755 ./trained-envs-executables/linux/Huggy"
      ]
    },
    {
      "cell_type": "markdown",
      "source": [
        "## Let's recap how this environment works\n",
        "\n",
        "### The State Space: what Huggy \"perceives.\"\n",
        "\n",
        "Huggy doesn't \"see\" his environment. Instead, we provide him information about the environment:\n",
        "\n",
        "- The target (stick) position\n",
        "- The relative position between himself and the target\n",
        "- The orientation of his legs.\n",
        "\n",
        "Given all this information, Huggy **can decide which action to take next to fulfill his goal**.\n",
        "\n",
        "<img src=\"https://huggingface.co/datasets/huggingface-deep-rl-course/course-images/resolve/main/en/notebooks/unit-bonus1/huggy.jpg\" alt=\"Huggy\" width=\"100%\">\n",
        "\n",
        "\n",
        "### The Action Space: what moves Huggy can do\n",
        "<img src=\"https://huggingface.co/datasets/huggingface-deep-rl-course/course-images/resolve/main/en/notebooks/unit-bonus1/huggy-action.jpg\" alt=\"Huggy action\" width=\"100%\">\n",
        "\n",
        "**Joint motors drive huggy legs**. It means that to get the target, Huggy needs to **learn to rotate the joint motors of each of his legs correctly so he can move**.\n",
        "\n",
        "### The Reward Function\n",
        "\n",
        "The reward function is designed so that **Huggy will fulfill his goal** : fetch the stick.\n",
        "\n",
        "Remember that one of the foundations of Reinforcement Learning is the *reward hypothesis*: a goal can be described as the **maximization of the expected cumulative reward**.\n",
        "\n",
        "Here, our goal is that Huggy **goes towards the stick but without spinning too much**. Hence, our reward function must translate this goal.\n",
        "\n",
        "Our reward function:\n",
        "\n",
        "<img src=\"https://huggingface.co/datasets/huggingface-deep-rl-course/course-images/resolve/main/en/notebooks/unit-bonus1/reward.jpg\" alt=\"Huggy reward function\" width=\"100%\">\n",
        "\n",
        "- *Orientation bonus*: we **reward him for getting close to the target**.\n",
        "- *Time penalty*: a fixed-time penalty given at every action to **force him to get to the stick as fast as possible**.\n",
        "- *Rotation penalty*: we penalize Huggy if **he spins too much and turns too quickly**.\n",
        "- *Getting to the target reward*: we reward Huggy for **reaching the target**."
      ],
      "metadata": {
        "id": "dYKVj8yUvj55"
      }
    },
    {
      "cell_type": "markdown",
      "source": [
        "## Check the Huggy config file\n",
        "\n",
        "- In ML-Agents, you define the **training hyperparameters into config.yaml files.**\n",
        "\n",
        "- For the scope of this notebook, we're not going to modify the hyperparameters, but if you want to try as an experiment, you should also try to modify some other hyperparameters, Unity provides very [good documentation explaining each of them here](https://github.com/Unity-Technologies/ml-agents/blob/main/docs/Training-Configuration-File.md)."
      ],
      "metadata": {
        "id": "NAuEq32Mwvtz"
      }
    },
    {
      "cell_type": "markdown",
      "source": [
        "- **In the case you want to modify the hyperparameters**, in Google Colab notebook, you can click here to open the config.yaml: `/content/ml-agents/config/ppo/Huggy.yaml`\n",
        "\n",
        "- For instance **if you want to save more models during the training** (for now, we save every 200,000 training timesteps). You need to modify:\n",
        "  - `checkpoint_interval`: The number of training timesteps collected between each checkpoint.\n",
        "  - `keep_checkpoints`: The maximum number of model checkpoints to keep. \n",
        "\n",
        "=> Just keep in mind that **decreasing the `checkpoint_interval` means more models to upload to the Hub and so a longer uploading time** \n",
        "We’re now ready to train our agent 🔥."
      ],
      "metadata": {
        "id": "r9wv5NYGw-05"
      }
    },
    {
      "cell_type": "markdown",
      "metadata": {
        "id": "f9fI555bO12v"
      },
      "source": [
        "## Train our agent\n",
        "\n",
        "To train our agent, we just need to **launch mlagents-learn and select the executable containing the environment.**\n",
        "\n",
        "<img src=\"https://huggingface.co/datasets/huggingface-deep-rl-course/course-images/resolve/main/en/notebooks/unit-bonus1/mllearn.png\" alt=\"ml learn function\" width=\"100%\">\n",
        "\n",
        "With ML Agents, we run a training script. We define four parameters:\n",
        "\n",
        "1. `mlagents-learn <config>`: the path where the hyperparameter config file is.\n",
        "2. `--env`: where the environment executable is.\n",
        "3. `--run_id`: the name you want to give to your training run id.\n",
        "4. `--no-graphics`: to not launch the visualization during the training.\n",
        "\n",
        "Train the model and use the `--resume` flag to continue training in case of interruption. \n",
        "\n",
        "> It will fail first time when you use `--resume`, try running the block again to bypass the error. \n",
        "\n"
      ]
    },
    {
      "cell_type": "markdown",
      "source": [
        "The training will take 30 to 45min depending on your machine (don't forget to **set up a GPU**), go take a ☕️you deserve it 🤗."
      ],
      "metadata": {
        "id": "lN32oWF8zPjs"
      }
    },
    {
      "cell_type": "code",
      "execution_count": 9,
      "metadata": {
        "id": "bS-Yh1UdHfzy",
        "colab": {
          "base_uri": "https://localhost:8080/"
        },
        "outputId": "c3e376b3-6052-4a96-e9bf-0b165bf71d5c"
      },
      "outputs": [
        {
          "output_type": "stream",
          "name": "stdout",
          "text": [
            "\n",
            "            ┐  ╖\n",
            "        ╓╖╬│╡  ││╬╖╖\n",
            "    ╓╖╬│││││┘  ╬│││││╬╖\n",
            " ╖╬│││││╬╜        ╙╬│││││╖╖                               ╗╗╗\n",
            " ╬╬╬╬╖││╦╖        ╖╬││╗╣╣╣╬      ╟╣╣╬    ╟╣╣╣             ╜╜╜  ╟╣╣\n",
            " ╬╬╬╬╬╬╬╬╖│╬╖╖╓╬╪│╓╣╣╣╣╣╣╣╬      ╟╣╣╬    ╟╣╣╣ ╒╣╣╖╗╣╣╣╗   ╣╣╣ ╣╣╣╣╣╣ ╟╣╣╖   ╣╣╣\n",
            " ╬╬╬╬┐  ╙╬╬╬╬│╓╣╣╣╝╜  ╫╣╣╣╬      ╟╣╣╬    ╟╣╣╣ ╟╣╣╣╙ ╙╣╣╣  ╣╣╣ ╙╟╣╣╜╙  ╫╣╣  ╟╣╣\n",
            " ╬╬╬╬┐     ╙╬╬╣╣      ╫╣╣╣╬      ╟╣╣╬    ╟╣╣╣ ╟╣╣╬   ╣╣╣  ╣╣╣  ╟╣╣     ╣╣╣┌╣╣╜\n",
            " ╬╬╬╜       ╬╬╣╣      ╙╝╣╣╬      ╙╣╣╣╗╖╓╗╣╣╣╜ ╟╣╣╬   ╣╣╣  ╣╣╣  ╟╣╣╦╓    ╣╣╣╣╣\n",
            " ╙   ╓╦╖    ╬╬╣╣   ╓╗╗╖            ╙╝╣╣╣╣╝╜   ╘╝╝╜   ╝╝╝  ╝╝╝   ╙╣╣╣    ╟╣╣╣\n",
            "   ╩╬╬╬╬╬╬╦╦╬╬╣╣╗╣╣╣╣╣╣╣╝                                             ╫╣╣╣╣\n",
            "      ╙╬╬╬╬╬╬╬╣╣╣╣╣╣╝╜\n",
            "          ╙╬╬╬╣╣╣╜\n",
            "             ╙\n",
            "        \n",
            " Version information:\n",
            "  ml-agents: 0.31.0.dev0,\n",
            "  ml-agents-envs: 0.31.0.dev0,\n",
            "  Communicator API: 1.5.0,\n",
            "  PyTorch: 1.11.0+cu102\n",
            "[INFO] Connected to Unity environment with package version 2.2.1-exp.1 and communication version 1.5.0\n",
            "[INFO] Connected new brain: Huggy?team=0\n",
            "[INFO] Hyperparameters for behavior name Huggy: \n",
            "\ttrainer_type:\tppo\n",
            "\thyperparameters:\t\n",
            "\t  batch_size:\t2048\n",
            "\t  buffer_size:\t20480\n",
            "\t  learning_rate:\t0.0003\n",
            "\t  beta:\t0.005\n",
            "\t  epsilon:\t0.2\n",
            "\t  lambd:\t0.95\n",
            "\t  num_epoch:\t3\n",
            "\t  shared_critic:\tFalse\n",
            "\t  learning_rate_schedule:\tlinear\n",
            "\t  beta_schedule:\tlinear\n",
            "\t  epsilon_schedule:\tlinear\n",
            "\tcheckpoint_interval:\t200000\n",
            "\tnetwork_settings:\t\n",
            "\t  normalize:\tTrue\n",
            "\t  hidden_units:\t512\n",
            "\t  num_layers:\t3\n",
            "\t  vis_encode_type:\tsimple\n",
            "\t  memory:\tNone\n",
            "\t  goal_conditioning_type:\thyper\n",
            "\t  deterministic:\tFalse\n",
            "\treward_signals:\t\n",
            "\t  extrinsic:\t\n",
            "\t    gamma:\t0.995\n",
            "\t    strength:\t1.0\n",
            "\t    network_settings:\t\n",
            "\t      normalize:\tFalse\n",
            "\t      hidden_units:\t128\n",
            "\t      num_layers:\t2\n",
            "\t      vis_encode_type:\tsimple\n",
            "\t      memory:\tNone\n",
            "\t      goal_conditioning_type:\thyper\n",
            "\t      deterministic:\tFalse\n",
            "\tinit_path:\tNone\n",
            "\tkeep_checkpoints:\t15\n",
            "\teven_checkpoints:\tFalse\n",
            "\tmax_steps:\t2000000\n",
            "\ttime_horizon:\t1000\n",
            "\tsummary_freq:\t50000\n",
            "\tthreaded:\tFalse\n",
            "\tself_play:\tNone\n",
            "\tbehavioral_cloning:\tNone\n",
            "[INFO] Huggy. Step: 50000. Time Elapsed: 74.720 s. Mean Reward: 1.694. Std of Reward: 1.089. Training.\n",
            "[INFO] Huggy. Step: 100000. Time Elapsed: 140.163 s. Mean Reward: 2.623. Std of Reward: 1.095. Training.\n",
            "[INFO] Huggy. Step: 150000. Time Elapsed: 204.766 s. Mean Reward: 3.167. Std of Reward: 1.242. Training.\n",
            "[INFO] Huggy. Step: 200000. Time Elapsed: 267.745 s. Mean Reward: 3.357. Std of Reward: 1.406. Training.\n",
            "[INFO] Exported results/Huggy/Huggy/Huggy-199894.onnx\n",
            "[INFO] Huggy. Step: 250000. Time Elapsed: 335.627 s. Mean Reward: 3.398. Std of Reward: 1.418. Training.\n",
            "[INFO] Huggy. Step: 300000. Time Elapsed: 399.960 s. Mean Reward: 3.723. Std of Reward: 1.459. Training.\n",
            "[INFO] Huggy. Step: 350000. Time Elapsed: 466.161 s. Mean Reward: 3.447. Std of Reward: 1.601. Training.\n",
            "[INFO] Huggy. Step: 400000. Time Elapsed: 533.265 s. Mean Reward: 3.497. Std of Reward: 2.003. Training.\n",
            "[INFO] Exported results/Huggy/Huggy/Huggy-399790.onnx\n",
            "[INFO] Huggy. Step: 450000. Time Elapsed: 597.722 s. Mean Reward: 3.631. Std of Reward: 1.864. Training.\n",
            "[INFO] Huggy. Step: 500000. Time Elapsed: 666.630 s. Mean Reward: 3.605. Std of Reward: 1.981. Training.\n",
            "[INFO] Huggy. Step: 550000. Time Elapsed: 729.212 s. Mean Reward: 3.696. Std of Reward: 1.806. Training.\n",
            "[INFO] Huggy. Step: 600000. Time Elapsed: 798.098 s. Mean Reward: 3.555. Std of Reward: 1.772. Training.\n",
            "[INFO] Exported results/Huggy/Huggy/Huggy-599985.onnx\n",
            "[INFO] Huggy. Step: 650000. Time Elapsed: 863.668 s. Mean Reward: 3.815. Std of Reward: 1.868. Training.\n",
            "[INFO] Huggy. Step: 700000. Time Elapsed: 927.294 s. Mean Reward: 3.709. Std of Reward: 1.867. Training.\n",
            "[INFO] Huggy. Step: 750000. Time Elapsed: 994.889 s. Mean Reward: 3.874. Std of Reward: 1.875. Training.\n",
            "[INFO] Huggy. Step: 800000. Time Elapsed: 1062.016 s. Mean Reward: 3.518. Std of Reward: 2.072. Training.\n",
            "[INFO] Exported results/Huggy/Huggy/Huggy-799932.onnx\n",
            "[INFO] Huggy. Step: 850000. Time Elapsed: 1132.834 s. Mean Reward: 3.608. Std of Reward: 1.943. Training.\n",
            "[INFO] Huggy. Step: 900000. Time Elapsed: 1198.356 s. Mean Reward: 3.885. Std of Reward: 1.987. Training.\n",
            "[INFO] Huggy. Step: 950000. Time Elapsed: 1266.156 s. Mean Reward: 3.819. Std of Reward: 1.895. Training.\n",
            "[INFO] Huggy. Step: 1000000. Time Elapsed: 1331.969 s. Mean Reward: 3.685. Std of Reward: 1.898. Training.\n",
            "[INFO] Exported results/Huggy/Huggy/Huggy-999833.onnx\n",
            "[INFO] Huggy. Step: 1050000. Time Elapsed: 1397.557 s. Mean Reward: 3.619. Std of Reward: 2.131. Training.\n",
            "[INFO] Huggy. Step: 1100000. Time Elapsed: 1467.545 s. Mean Reward: 3.574. Std of Reward: 1.993. Training.\n",
            "[INFO] Huggy. Step: 1150000. Time Elapsed: 1534.119 s. Mean Reward: 3.553. Std of Reward: 1.971. Training.\n",
            "[INFO] Huggy. Step: 1200000. Time Elapsed: 1603.058 s. Mean Reward: 3.766. Std of Reward: 2.002. Training.\n",
            "[INFO] Exported results/Huggy/Huggy/Huggy-1199919.onnx\n",
            "[INFO] Huggy. Step: 1250000. Time Elapsed: 1668.414 s. Mean Reward: 3.721. Std of Reward: 1.992. Training.\n",
            "[INFO] Huggy. Step: 1300000. Time Elapsed: 1736.842 s. Mean Reward: 3.738. Std of Reward: 1.935. Training.\n",
            "[INFO] Huggy. Step: 1350000. Time Elapsed: 1802.316 s. Mean Reward: 3.783. Std of Reward: 1.957. Training.\n",
            "[INFO] Huggy. Step: 1400000. Time Elapsed: 1864.990 s. Mean Reward: 3.737. Std of Reward: 2.001. Training.\n",
            "[INFO] Exported results/Huggy/Huggy/Huggy-1399969.onnx\n",
            "[INFO] Huggy. Step: 1450000. Time Elapsed: 1933.940 s. Mean Reward: 3.718. Std of Reward: 1.980. Training.\n",
            "[INFO] Huggy. Step: 1500000. Time Elapsed: 1997.347 s. Mean Reward: 3.829. Std of Reward: 2.073. Training.\n",
            "[INFO] Huggy. Step: 1550000. Time Elapsed: 2067.095 s. Mean Reward: 3.629. Std of Reward: 2.208. Training.\n",
            "[INFO] Huggy. Step: 1600000. Time Elapsed: 2132.705 s. Mean Reward: 3.585. Std of Reward: 2.124. Training.\n",
            "[INFO] Exported results/Huggy/Huggy/Huggy-1599906.onnx\n",
            "[INFO] Huggy. Step: 1650000. Time Elapsed: 2199.417 s. Mean Reward: 3.427. Std of Reward: 2.091. Training.\n",
            "[INFO] Huggy. Step: 1700000. Time Elapsed: 2265.837 s. Mean Reward: 3.595. Std of Reward: 2.089. Training.\n",
            "[INFO] Huggy. Step: 1750000. Time Elapsed: 2329.001 s. Mean Reward: 3.525. Std of Reward: 2.225. Training.\n",
            "[INFO] Huggy. Step: 1800000. Time Elapsed: 2397.471 s. Mean Reward: 3.496. Std of Reward: 2.139. Training.\n",
            "[INFO] Exported results/Huggy/Huggy/Huggy-1799997.onnx\n",
            "[INFO] Huggy. Step: 1850000. Time Elapsed: 2460.174 s. Mean Reward: 3.709. Std of Reward: 2.316. Training.\n",
            "[INFO] Huggy. Step: 1900000. Time Elapsed: 2527.519 s. Mean Reward: 3.490. Std of Reward: 2.162. Training.\n",
            "[INFO] Huggy. Step: 1950000. Time Elapsed: 2592.563 s. Mean Reward: 3.611. Std of Reward: 2.199. Training.\n",
            "[INFO] Huggy. Step: 2000000. Time Elapsed: 2655.896 s. Mean Reward: 3.588. Std of Reward: 2.271. Training.\n",
            "[INFO] Exported results/Huggy/Huggy/Huggy-1999907.onnx\n",
            "[INFO] Exported results/Huggy/Huggy/Huggy-2000020.onnx\n",
            "[INFO] Copied results/Huggy/Huggy/Huggy-2000020.onnx to results/Huggy/Huggy.onnx.\n"
          ]
        }
      ],
      "source": [
        "!mlagents-learn ./config/ppo/Huggy.yaml --env=./trained-envs-executables/linux/Huggy/Huggy --run-id=\"Huggy\" --no-graphics"
      ]
    },
    {
      "cell_type": "markdown",
      "metadata": {
        "id": "5Vue94AzPy1t"
      },
      "source": [
        "## Push the agent to the 🤗 Hub\n",
        "\n",
        "- Now that we trained our agent, we’re **ready to push it to the Hub to be able to play with Huggy on your browser🔥.**"
      ]
    },
    {
      "cell_type": "markdown",
      "source": [
        "To be able to share your model with the community there are three more steps to follow:\n",
        "\n",
        "1️⃣ (If it's not already done) create an account to HF ➡ https://huggingface.co/join\n",
        "\n",
        "2️⃣ Sign in and then, you need to store your authentication token from the Hugging Face website.\n",
        "- Create a new token (https://huggingface.co/settings/tokens) **with write role**\n",
        "\n",
        "<img src=\"https://huggingface.co/datasets/huggingface-deep-rl-course/course-images/resolve/main/en/notebooks/create-token.jpg\" alt=\"Create HF Token\">\n",
        "\n",
        "- Copy the token \n",
        "- Run the cell below and paste the token"
      ],
      "metadata": {
        "id": "izT6FpgNzZ6R"
      }
    },
    {
      "cell_type": "code",
      "execution_count": 10,
      "metadata": {
        "id": "rKt2vsYoK56o",
        "colab": {
          "base_uri": "https://localhost:8080/",
          "height": 303,
          "referenced_widgets": [
            "3ddd205355d842a5811e573777e88295",
            "87fbf027709f45978fcafdff960442ff",
            "ddffb1b00d324be0b50d6078ad8ee535",
            "c05c5f09ea944f4db78db8cdf871eee2",
            "7acae0b8e17445e4a9ce3f2f536aa3c2",
            "00a0e9b2f3124b48b3fe3011d00e25e6",
            "d03c1003d9894756b19a9d0e79f9b80a",
            "01545d638242436690e123072e0f8122",
            "169f4865bda148b480d389b50d7435b2",
            "d0eaadbf154349dd98f07a2f0f1245e5",
            "4b770e13a2ec4b998757db70947f6d62",
            "34aa58ffa78043859c62ab9c8e428af1",
            "ad1f16980f2d4defb88f2f8a9b901101",
            "edca89451a0c43e5bd11dd883e059cdd",
            "c9b4a27fbbc94e83880d433bcf5cdc80",
            "77168878c2ef405ba6387b368c4ce798",
            "8b2a0ea87d2d41abae9eef72d759a8d3"
          ]
        },
        "outputId": "5bcafbca-85a9-4d01-8610-5462398bb68b"
      },
      "outputs": [
        {
          "output_type": "stream",
          "name": "stdout",
          "text": [
            "Token is valid.\n",
            "Your token has been saved in your configured git credential helpers (store).\n",
            "Your token has been saved to /root/.cache/huggingface/token\n",
            "Login successful\n"
          ]
        }
      ],
      "source": [
        "from huggingface_hub import notebook_login\n",
        "notebook_login()"
      ]
    },
    {
      "cell_type": "markdown",
      "source": [
        "If you don't want to use a Google Colab or a Jupyter Notebook, you need to use this command instead: `huggingface-cli login`"
      ],
      "metadata": {
        "id": "ew59mK19zjtN"
      }
    },
    {
      "cell_type": "markdown",
      "metadata": {
        "id": "Xi0y_VASRzJU"
      },
      "source": [
        "Then, we simply need to run `mlagents-push-to-hf`.\n",
        "\n",
        "<img src=\"https://huggingface.co/datasets/huggingface-deep-rl-course/course-images/resolve/main/en/notebooks/unit-bonus1/mlpush.png\" alt=\"ml learn function\" width=\"100%\">"
      ]
    },
    {
      "cell_type": "markdown",
      "source": [
        "And we define 4 parameters:\n",
        "\n",
        "1. `--run-id`: the name of the training run id.\n",
        "2. `--local-dir`: where the agent was saved, it’s results/<run_id name>, so in my case results/First Training.\n",
        "3. `--repo-id`: the name of the Hugging Face repo you want to create or update. It’s always <your huggingface username>/<the repo name>\n",
        "If the repo does not exist **it will be created automatically**\n",
        "4. `--commit-message`: since HF repos are git repository you need to define a commit message."
      ],
      "metadata": {
        "id": "KK4fPfnczunT"
      }
    },
    {
      "cell_type": "code",
      "execution_count": 20,
      "metadata": {
        "id": "dGEFAIboLVc6",
        "colab": {
          "base_uri": "https://localhost:8080/"
        },
        "outputId": "115954b3-b9bc-4749-c0fe-7e920738b718"
      },
      "outputs": [
        {
          "output_type": "stream",
          "name": "stdout",
          "text": [
            "/content/ml-agents/hub/ppo-Huggy is already a clone of https://huggingface.co/ThomasSimonini/ppo-Huggy. Make sure you pull the latest changes with `repo.git_pull()`.\n",
            "WARNING:huggingface_hub.repository:/content/ml-agents/hub/ppo-Huggy is already a clone of https://huggingface.co/ThomasSimonini/ppo-Huggy. Make sure you pull the latest changes with `repo.git_pull()`.\n",
            "\n",
            " Your model is pushed to the hub. You can view your model here: https://huggingface.co/ThomasSimonini/ppo-Huggy\n"
          ]
        }
      ],
      "source": [
        "!mlagents-push-to-hf --run-id=\"HuggyTraining\" --local-dir=\"./results/Huggy\" --repo-id=\"ThomasSimonini/ppo-Huggy\" --commit-message=\"Huggy\""
      ]
    },
    {
      "cell_type": "markdown",
      "source": [
        "Else, if everything worked you should have this at the end of the process(but with a different url 😆) :\n",
        "\n",
        "\n",
        "\n",
        "```\n",
        "Your model is pushed to the hub. You can view your model here: https://huggingface.co/ThomasSimonini/ppo-Huggy\n",
        "```\n",
        "\n",
        "It’s the link to your model repository. The repository contains a model card that explains how to use the model, your Tensorboard logs and your config file. **What’s awesome is that it’s a git repository, which means you can have different commits, update your repository with a new push, open Pull Requests, etc.**\n",
        "\n",
        "<img src=\"https://huggingface.co/datasets/huggingface-deep-rl-course/course-images/resolve/main/en/notebooks/unit-bonus1/modelcard.png\" alt=\"ml learn function\" width=\"100%\">"
      ],
      "metadata": {
        "id": "yborB0850FTM"
      }
    },
    {
      "cell_type": "markdown",
      "source": [
        "But now comes the best: **being able to play with Huggy online 👀.**"
      ],
      "metadata": {
        "id": "5Uaon2cg0NrL"
      }
    },
    {
      "cell_type": "markdown",
      "source": [
        "## Play with your Huggy 🐕\n",
        "\n",
        "This step is the simplest:\n",
        "\n",
        "- Open the game Huggy in your browser: https://huggingface.co/spaces/ThomasSimonini/Huggy\n",
        "\n",
        "- Click on Play with my Huggy model\n",
        "\n",
        "<img src=\"https://huggingface.co/datasets/huggingface-deep-rl-course/course-images/resolve/main/en/notebooks/unit-bonus1/load-huggy.jpg\" alt=\"load-huggy\" width=\"100%\">"
      ],
      "metadata": {
        "id": "VMc4oOsE0QiZ"
      }
    },
    {
      "cell_type": "markdown",
      "source": [
        "1. In step 1, choose your model repository which is the model id (in my case ThomasSimonini/ppo-Huggy).\n",
        "\n",
        "2. In step 2, **choose what model you want to replay**:\n",
        "  - I have multiple ones, since we saved a model every 500000 timesteps. \n",
        "  - But since I want the more recent, I choose `Huggy.onnx`\n",
        "\n",
        "👉 What’s nice **is to try with different models steps to see the improvement of the agent.**"
      ],
      "metadata": {
        "id": "Djs8c5rR0Z8a"
      }
    },
    {
      "cell_type": "markdown",
      "source": [
        "Congrats on finishing this bonus unit!\n",
        "\n",
        "You can now sit and enjoy playing with your Huggy 🐶. And don't **forget to spread the love by sharing Huggy with your friends 🤗**. And if you share about it on social media, **please tag us @huggingface and me @simoninithomas**\n",
        "\n",
        "<img src=\"https://huggingface.co/datasets/huggingface-deep-rl-course/course-images/resolve/main/en/notebooks/unit-bonus1/huggy-cover.jpeg\" alt=\"Huggy cover\" width=\"100%\">\n",
        "\n",
        "\n",
        "## Keep Learning, Stay  awesome 🤗"
      ],
      "metadata": {
        "id": "PI6dPWmh064H"
      }
    }
  ],
  "metadata": {
    "accelerator": "GPU",
    "colab": {
      "provenance": [],
      "include_colab_link": true
    },
    "gpuClass": "standard",
    "kernelspec": {
      "display_name": "Python 3",
      "name": "python3"
    },
    "language_info": {
      "name": "python"
    },
    "widgets": {
      "application/vnd.jupyter.widget-state+json": {
        "3ddd205355d842a5811e573777e88295": {
          "model_module": "@jupyter-widgets/controls",
          "model_name": "VBoxModel",
          "model_module_version": "1.5.0",
          "state": {
            "_dom_classes": [],
            "_model_module": "@jupyter-widgets/controls",
            "_model_module_version": "1.5.0",
            "_model_name": "VBoxModel",
            "_view_count": null,
            "_view_module": "@jupyter-widgets/controls",
            "_view_module_version": "1.5.0",
            "_view_name": "VBoxView",
            "box_style": "",
            "children": [
              "IPY_MODEL_87fbf027709f45978fcafdff960442ff",
              "IPY_MODEL_ddffb1b00d324be0b50d6078ad8ee535",
              "IPY_MODEL_c05c5f09ea944f4db78db8cdf871eee2",
              "IPY_MODEL_7acae0b8e17445e4a9ce3f2f536aa3c2",
              "IPY_MODEL_00a0e9b2f3124b48b3fe3011d00e25e6"
            ],
            "layout": "IPY_MODEL_d03c1003d9894756b19a9d0e79f9b80a"
          }
        },
        "87fbf027709f45978fcafdff960442ff": {
          "model_module": "@jupyter-widgets/controls",
          "model_name": "HTMLModel",
          "model_module_version": "1.5.0",
          "state": {
            "_dom_classes": [],
            "_model_module": "@jupyter-widgets/controls",
            "_model_module_version": "1.5.0",
            "_model_name": "HTMLModel",
            "_view_count": null,
            "_view_module": "@jupyter-widgets/controls",
            "_view_module_version": "1.5.0",
            "_view_name": "HTMLView",
            "description": "",
            "description_tooltip": null,
            "layout": "IPY_MODEL_01545d638242436690e123072e0f8122",
            "placeholder": "​",
            "style": "IPY_MODEL_169f4865bda148b480d389b50d7435b2",
            "value": "<center> <img\nsrc=https://huggingface.co/front/assets/huggingface_logo-noborder.svg\nalt='Hugging Face'> <br> Copy a token from <a\nhref=\"https://huggingface.co/settings/tokens\" target=\"_blank\">your Hugging Face\ntokens page</a> and paste it below. <br> Immediately click login after copying\nyour token or it might be stored in plain text in this notebook file. </center>"
          }
        },
        "ddffb1b00d324be0b50d6078ad8ee535": {
          "model_module": "@jupyter-widgets/controls",
          "model_name": "PasswordModel",
          "model_module_version": "1.5.0",
          "state": {
            "_dom_classes": [],
            "_model_module": "@jupyter-widgets/controls",
            "_model_module_version": "1.5.0",
            "_model_name": "PasswordModel",
            "_view_count": null,
            "_view_module": "@jupyter-widgets/controls",
            "_view_module_version": "1.5.0",
            "_view_name": "PasswordView",
            "continuous_update": true,
            "description": "Token:",
            "description_tooltip": null,
            "disabled": false,
            "layout": "IPY_MODEL_d0eaadbf154349dd98f07a2f0f1245e5",
            "placeholder": "​",
            "style": "IPY_MODEL_4b770e13a2ec4b998757db70947f6d62",
            "value": ""
          }
        },
        "c05c5f09ea944f4db78db8cdf871eee2": {
          "model_module": "@jupyter-widgets/controls",
          "model_name": "CheckboxModel",
          "model_module_version": "1.5.0",
          "state": {
            "_dom_classes": [],
            "_model_module": "@jupyter-widgets/controls",
            "_model_module_version": "1.5.0",
            "_model_name": "CheckboxModel",
            "_view_count": null,
            "_view_module": "@jupyter-widgets/controls",
            "_view_module_version": "1.5.0",
            "_view_name": "CheckboxView",
            "description": "Add token as git credential?",
            "description_tooltip": null,
            "disabled": false,
            "indent": true,
            "layout": "IPY_MODEL_34aa58ffa78043859c62ab9c8e428af1",
            "style": "IPY_MODEL_ad1f16980f2d4defb88f2f8a9b901101",
            "value": true
          }
        },
        "7acae0b8e17445e4a9ce3f2f536aa3c2": {
          "model_module": "@jupyter-widgets/controls",
          "model_name": "ButtonModel",
          "model_module_version": "1.5.0",
          "state": {
            "_dom_classes": [],
            "_model_module": "@jupyter-widgets/controls",
            "_model_module_version": "1.5.0",
            "_model_name": "ButtonModel",
            "_view_count": null,
            "_view_module": "@jupyter-widgets/controls",
            "_view_module_version": "1.5.0",
            "_view_name": "ButtonView",
            "button_style": "",
            "description": "Login",
            "disabled": false,
            "icon": "",
            "layout": "IPY_MODEL_edca89451a0c43e5bd11dd883e059cdd",
            "style": "IPY_MODEL_c9b4a27fbbc94e83880d433bcf5cdc80",
            "tooltip": ""
          }
        },
        "00a0e9b2f3124b48b3fe3011d00e25e6": {
          "model_module": "@jupyter-widgets/controls",
          "model_name": "HTMLModel",
          "model_module_version": "1.5.0",
          "state": {
            "_dom_classes": [],
            "_model_module": "@jupyter-widgets/controls",
            "_model_module_version": "1.5.0",
            "_model_name": "HTMLModel",
            "_view_count": null,
            "_view_module": "@jupyter-widgets/controls",
            "_view_module_version": "1.5.0",
            "_view_name": "HTMLView",
            "description": "",
            "description_tooltip": null,
            "layout": "IPY_MODEL_77168878c2ef405ba6387b368c4ce798",
            "placeholder": "​",
            "style": "IPY_MODEL_8b2a0ea87d2d41abae9eef72d759a8d3",
            "value": "\n<b>Pro Tip:</b> If you don't already have one, you can create a dedicated\n'notebooks' token with 'write' access, that you can then easily reuse for all\nnotebooks. </center>"
          }
        },
        "d03c1003d9894756b19a9d0e79f9b80a": {
          "model_module": "@jupyter-widgets/base",
          "model_name": "LayoutModel",
          "model_module_version": "1.2.0",
          "state": {
            "_model_module": "@jupyter-widgets/base",
            "_model_module_version": "1.2.0",
            "_model_name": "LayoutModel",
            "_view_count": null,
            "_view_module": "@jupyter-widgets/base",
            "_view_module_version": "1.2.0",
            "_view_name": "LayoutView",
            "align_content": null,
            "align_items": "center",
            "align_self": null,
            "border": null,
            "bottom": null,
            "display": "flex",
            "flex": null,
            "flex_flow": "column",
            "grid_area": null,
            "grid_auto_columns": null,
            "grid_auto_flow": null,
            "grid_auto_rows": null,
            "grid_column": null,
            "grid_gap": null,
            "grid_row": null,
            "grid_template_areas": null,
            "grid_template_columns": null,
            "grid_template_rows": null,
            "height": null,
            "justify_content": null,
            "justify_items": null,
            "left": null,
            "margin": null,
            "max_height": null,
            "max_width": null,
            "min_height": null,
            "min_width": null,
            "object_fit": null,
            "object_position": null,
            "order": null,
            "overflow": null,
            "overflow_x": null,
            "overflow_y": null,
            "padding": null,
            "right": null,
            "top": null,
            "visibility": null,
            "width": "50%"
          }
        },
        "01545d638242436690e123072e0f8122": {
          "model_module": "@jupyter-widgets/base",
          "model_name": "LayoutModel",
          "model_module_version": "1.2.0",
          "state": {
            "_model_module": "@jupyter-widgets/base",
            "_model_module_version": "1.2.0",
            "_model_name": "LayoutModel",
            "_view_count": null,
            "_view_module": "@jupyter-widgets/base",
            "_view_module_version": "1.2.0",
            "_view_name": "LayoutView",
            "align_content": null,
            "align_items": null,
            "align_self": null,
            "border": null,
            "bottom": null,
            "display": null,
            "flex": null,
            "flex_flow": null,
            "grid_area": null,
            "grid_auto_columns": null,
            "grid_auto_flow": null,
            "grid_auto_rows": null,
            "grid_column": null,
            "grid_gap": null,
            "grid_row": null,
            "grid_template_areas": null,
            "grid_template_columns": null,
            "grid_template_rows": null,
            "height": null,
            "justify_content": null,
            "justify_items": null,
            "left": null,
            "margin": null,
            "max_height": null,
            "max_width": null,
            "min_height": null,
            "min_width": null,
            "object_fit": null,
            "object_position": null,
            "order": null,
            "overflow": null,
            "overflow_x": null,
            "overflow_y": null,
            "padding": null,
            "right": null,
            "top": null,
            "visibility": null,
            "width": null
          }
        },
        "169f4865bda148b480d389b50d7435b2": {
          "model_module": "@jupyter-widgets/controls",
          "model_name": "DescriptionStyleModel",
          "model_module_version": "1.5.0",
          "state": {
            "_model_module": "@jupyter-widgets/controls",
            "_model_module_version": "1.5.0",
            "_model_name": "DescriptionStyleModel",
            "_view_count": null,
            "_view_module": "@jupyter-widgets/base",
            "_view_module_version": "1.2.0",
            "_view_name": "StyleView",
            "description_width": ""
          }
        },
        "d0eaadbf154349dd98f07a2f0f1245e5": {
          "model_module": "@jupyter-widgets/base",
          "model_name": "LayoutModel",
          "model_module_version": "1.2.0",
          "state": {
            "_model_module": "@jupyter-widgets/base",
            "_model_module_version": "1.2.0",
            "_model_name": "LayoutModel",
            "_view_count": null,
            "_view_module": "@jupyter-widgets/base",
            "_view_module_version": "1.2.0",
            "_view_name": "LayoutView",
            "align_content": null,
            "align_items": null,
            "align_self": null,
            "border": null,
            "bottom": null,
            "display": null,
            "flex": null,
            "flex_flow": null,
            "grid_area": null,
            "grid_auto_columns": null,
            "grid_auto_flow": null,
            "grid_auto_rows": null,
            "grid_column": null,
            "grid_gap": null,
            "grid_row": null,
            "grid_template_areas": null,
            "grid_template_columns": null,
            "grid_template_rows": null,
            "height": null,
            "justify_content": null,
            "justify_items": null,
            "left": null,
            "margin": null,
            "max_height": null,
            "max_width": null,
            "min_height": null,
            "min_width": null,
            "object_fit": null,
            "object_position": null,
            "order": null,
            "overflow": null,
            "overflow_x": null,
            "overflow_y": null,
            "padding": null,
            "right": null,
            "top": null,
            "visibility": null,
            "width": null
          }
        },
        "4b770e13a2ec4b998757db70947f6d62": {
          "model_module": "@jupyter-widgets/controls",
          "model_name": "DescriptionStyleModel",
          "model_module_version": "1.5.0",
          "state": {
            "_model_module": "@jupyter-widgets/controls",
            "_model_module_version": "1.5.0",
            "_model_name": "DescriptionStyleModel",
            "_view_count": null,
            "_view_module": "@jupyter-widgets/base",
            "_view_module_version": "1.2.0",
            "_view_name": "StyleView",
            "description_width": ""
          }
        },
        "34aa58ffa78043859c62ab9c8e428af1": {
          "model_module": "@jupyter-widgets/base",
          "model_name": "LayoutModel",
          "model_module_version": "1.2.0",
          "state": {
            "_model_module": "@jupyter-widgets/base",
            "_model_module_version": "1.2.0",
            "_model_name": "LayoutModel",
            "_view_count": null,
            "_view_module": "@jupyter-widgets/base",
            "_view_module_version": "1.2.0",
            "_view_name": "LayoutView",
            "align_content": null,
            "align_items": null,
            "align_self": null,
            "border": null,
            "bottom": null,
            "display": null,
            "flex": null,
            "flex_flow": null,
            "grid_area": null,
            "grid_auto_columns": null,
            "grid_auto_flow": null,
            "grid_auto_rows": null,
            "grid_column": null,
            "grid_gap": null,
            "grid_row": null,
            "grid_template_areas": null,
            "grid_template_columns": null,
            "grid_template_rows": null,
            "height": null,
            "justify_content": null,
            "justify_items": null,
            "left": null,
            "margin": null,
            "max_height": null,
            "max_width": null,
            "min_height": null,
            "min_width": null,
            "object_fit": null,
            "object_position": null,
            "order": null,
            "overflow": null,
            "overflow_x": null,
            "overflow_y": null,
            "padding": null,
            "right": null,
            "top": null,
            "visibility": null,
            "width": null
          }
        },
        "ad1f16980f2d4defb88f2f8a9b901101": {
          "model_module": "@jupyter-widgets/controls",
          "model_name": "DescriptionStyleModel",
          "model_module_version": "1.5.0",
          "state": {
            "_model_module": "@jupyter-widgets/controls",
            "_model_module_version": "1.5.0",
            "_model_name": "DescriptionStyleModel",
            "_view_count": null,
            "_view_module": "@jupyter-widgets/base",
            "_view_module_version": "1.2.0",
            "_view_name": "StyleView",
            "description_width": ""
          }
        },
        "edca89451a0c43e5bd11dd883e059cdd": {
          "model_module": "@jupyter-widgets/base",
          "model_name": "LayoutModel",
          "model_module_version": "1.2.0",
          "state": {
            "_model_module": "@jupyter-widgets/base",
            "_model_module_version": "1.2.0",
            "_model_name": "LayoutModel",
            "_view_count": null,
            "_view_module": "@jupyter-widgets/base",
            "_view_module_version": "1.2.0",
            "_view_name": "LayoutView",
            "align_content": null,
            "align_items": null,
            "align_self": null,
            "border": null,
            "bottom": null,
            "display": null,
            "flex": null,
            "flex_flow": null,
            "grid_area": null,
            "grid_auto_columns": null,
            "grid_auto_flow": null,
            "grid_auto_rows": null,
            "grid_column": null,
            "grid_gap": null,
            "grid_row": null,
            "grid_template_areas": null,
            "grid_template_columns": null,
            "grid_template_rows": null,
            "height": null,
            "justify_content": null,
            "justify_items": null,
            "left": null,
            "margin": null,
            "max_height": null,
            "max_width": null,
            "min_height": null,
            "min_width": null,
            "object_fit": null,
            "object_position": null,
            "order": null,
            "overflow": null,
            "overflow_x": null,
            "overflow_y": null,
            "padding": null,
            "right": null,
            "top": null,
            "visibility": null,
            "width": null
          }
        },
        "c9b4a27fbbc94e83880d433bcf5cdc80": {
          "model_module": "@jupyter-widgets/controls",
          "model_name": "ButtonStyleModel",
          "model_module_version": "1.5.0",
          "state": {
            "_model_module": "@jupyter-widgets/controls",
            "_model_module_version": "1.5.0",
            "_model_name": "ButtonStyleModel",
            "_view_count": null,
            "_view_module": "@jupyter-widgets/base",
            "_view_module_version": "1.2.0",
            "_view_name": "StyleView",
            "button_color": null,
            "font_weight": ""
          }
        },
        "77168878c2ef405ba6387b368c4ce798": {
          "model_module": "@jupyter-widgets/base",
          "model_name": "LayoutModel",
          "model_module_version": "1.2.0",
          "state": {
            "_model_module": "@jupyter-widgets/base",
            "_model_module_version": "1.2.0",
            "_model_name": "LayoutModel",
            "_view_count": null,
            "_view_module": "@jupyter-widgets/base",
            "_view_module_version": "1.2.0",
            "_view_name": "LayoutView",
            "align_content": null,
            "align_items": null,
            "align_self": null,
            "border": null,
            "bottom": null,
            "display": null,
            "flex": null,
            "flex_flow": null,
            "grid_area": null,
            "grid_auto_columns": null,
            "grid_auto_flow": null,
            "grid_auto_rows": null,
            "grid_column": null,
            "grid_gap": null,
            "grid_row": null,
            "grid_template_areas": null,
            "grid_template_columns": null,
            "grid_template_rows": null,
            "height": null,
            "justify_content": null,
            "justify_items": null,
            "left": null,
            "margin": null,
            "max_height": null,
            "max_width": null,
            "min_height": null,
            "min_width": null,
            "object_fit": null,
            "object_position": null,
            "order": null,
            "overflow": null,
            "overflow_x": null,
            "overflow_y": null,
            "padding": null,
            "right": null,
            "top": null,
            "visibility": null,
            "width": null
          }
        },
        "8b2a0ea87d2d41abae9eef72d759a8d3": {
          "model_module": "@jupyter-widgets/controls",
          "model_name": "DescriptionStyleModel",
          "model_module_version": "1.5.0",
          "state": {
            "_model_module": "@jupyter-widgets/controls",
            "_model_module_version": "1.5.0",
            "_model_name": "DescriptionStyleModel",
            "_view_count": null,
            "_view_module": "@jupyter-widgets/base",
            "_view_module_version": "1.2.0",
            "_view_name": "StyleView",
            "description_width": ""
          }
        }
      }
    }
  },
  "nbformat": 4,
  "nbformat_minor": 0
}